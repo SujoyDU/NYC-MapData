{
 "cells": [
  {
   "cell_type": "code",
   "execution_count": 1,
   "metadata": {},
   "outputs": [],
   "source": [
    "import pandas as pd\n",
    "import numpy as np"
   ]
  },
  {
   "cell_type": "code",
   "execution_count": 41,
   "metadata": {},
   "outputs": [
    {
     "data": {
      "text/html": [
       "<div>\n",
       "<style scoped>\n",
       "    .dataframe tbody tr th:only-of-type {\n",
       "        vertical-align: middle;\n",
       "    }\n",
       "\n",
       "    .dataframe tbody tr th {\n",
       "        vertical-align: top;\n",
       "    }\n",
       "\n",
       "    .dataframe thead th {\n",
       "        text-align: right;\n",
       "    }\n",
       "</style>\n",
       "<table border=\"1\" class=\"dataframe\">\n",
       "  <thead>\n",
       "    <tr style=\"text-align: right;\">\n",
       "      <th></th>\n",
       "      <th>CAMIS</th>\n",
       "      <th>DBA</th>\n",
       "      <th>BORO</th>\n",
       "      <th>BUILDING</th>\n",
       "      <th>STREET</th>\n",
       "      <th>ZIPCODE</th>\n",
       "      <th>PHONE</th>\n",
       "      <th>CUISINE DESCRIPTION</th>\n",
       "      <th>INSPECTION DATE</th>\n",
       "      <th>ACTION</th>\n",
       "      <th>...</th>\n",
       "      <th>RECORD DATE</th>\n",
       "      <th>INSPECTION TYPE</th>\n",
       "      <th>Latitude</th>\n",
       "      <th>Longitude</th>\n",
       "      <th>Community Board</th>\n",
       "      <th>Council District</th>\n",
       "      <th>Census Tract</th>\n",
       "      <th>BIN</th>\n",
       "      <th>BBL</th>\n",
       "      <th>NTA</th>\n",
       "    </tr>\n",
       "  </thead>\n",
       "  <tbody>\n",
       "    <tr>\n",
       "      <th>0</th>\n",
       "      <td>30075445</td>\n",
       "      <td>MORRIS PARK BAKE SHOP</td>\n",
       "      <td>Bronx</td>\n",
       "      <td>1007</td>\n",
       "      <td>MORRIS PARK AVE</td>\n",
       "      <td>10462.0</td>\n",
       "      <td>7188924968</td>\n",
       "      <td>Bakery</td>\n",
       "      <td>2019-06-11</td>\n",
       "      <td>Violations were cited in the following area(s).</td>\n",
       "      <td>...</td>\n",
       "      <td>2019-09-25</td>\n",
       "      <td>Cycle Inspection / Re-inspection</td>\n",
       "      <td>40.848231</td>\n",
       "      <td>-73.855972</td>\n",
       "      <td>211.0</td>\n",
       "      <td>13.0</td>\n",
       "      <td>25200.0</td>\n",
       "      <td>2045445.0</td>\n",
       "      <td>2.041270e+09</td>\n",
       "      <td>BX37</td>\n",
       "    </tr>\n",
       "    <tr>\n",
       "      <th>1</th>\n",
       "      <td>30112340</td>\n",
       "      <td>WENDY'S</td>\n",
       "      <td>Brooklyn</td>\n",
       "      <td>469</td>\n",
       "      <td>FLATBUSH AVENUE</td>\n",
       "      <td>11225.0</td>\n",
       "      <td>7182875005</td>\n",
       "      <td>Hamburgers</td>\n",
       "      <td>2019-03-04</td>\n",
       "      <td>Violations were cited in the following area(s).</td>\n",
       "      <td>...</td>\n",
       "      <td>2019-09-25</td>\n",
       "      <td>Cycle Inspection / Initial Inspection</td>\n",
       "      <td>40.662652</td>\n",
       "      <td>-73.962081</td>\n",
       "      <td>309.0</td>\n",
       "      <td>40.0</td>\n",
       "      <td>32700.0</td>\n",
       "      <td>3029737.0</td>\n",
       "      <td>3.011970e+09</td>\n",
       "      <td>BK60</td>\n",
       "    </tr>\n",
       "    <tr>\n",
       "      <th>2</th>\n",
       "      <td>30191841</td>\n",
       "      <td>DJ REYNOLDS PUB AND RESTAURANT</td>\n",
       "      <td>Manhattan</td>\n",
       "      <td>351</td>\n",
       "      <td>WEST   57 STREET</td>\n",
       "      <td>10019.0</td>\n",
       "      <td>2122452912</td>\n",
       "      <td>Irish</td>\n",
       "      <td>2019-06-06</td>\n",
       "      <td>Violations were cited in the following area(s).</td>\n",
       "      <td>...</td>\n",
       "      <td>2019-09-25</td>\n",
       "      <td>Cycle Inspection / Initial Inspection</td>\n",
       "      <td>40.767326</td>\n",
       "      <td>-73.984310</td>\n",
       "      <td>104.0</td>\n",
       "      <td>3.0</td>\n",
       "      <td>13900.0</td>\n",
       "      <td>1026048.0</td>\n",
       "      <td>1.010480e+09</td>\n",
       "      <td>MN15</td>\n",
       "    </tr>\n",
       "    <tr>\n",
       "      <th>3</th>\n",
       "      <td>40356018</td>\n",
       "      <td>RIVIERA CATERERS</td>\n",
       "      <td>Brooklyn</td>\n",
       "      <td>2780</td>\n",
       "      <td>STILLWELL AVENUE</td>\n",
       "      <td>11224.0</td>\n",
       "      <td>7183723031</td>\n",
       "      <td>American</td>\n",
       "      <td>2018-10-30</td>\n",
       "      <td>Violations were cited in the following area(s).</td>\n",
       "      <td>...</td>\n",
       "      <td>2019-09-25</td>\n",
       "      <td>Cycle Inspection / Initial Inspection</td>\n",
       "      <td>40.579920</td>\n",
       "      <td>-73.982090</td>\n",
       "      <td>313.0</td>\n",
       "      <td>47.0</td>\n",
       "      <td>34800.0</td>\n",
       "      <td>3347399.0</td>\n",
       "      <td>3.069970e+09</td>\n",
       "      <td>BK21</td>\n",
       "    </tr>\n",
       "    <tr>\n",
       "      <th>4</th>\n",
       "      <td>40356151</td>\n",
       "      <td>BRUNOS ON THE BOULEVARD</td>\n",
       "      <td>Queens</td>\n",
       "      <td>8825</td>\n",
       "      <td>ASTORIA BOULEVARD</td>\n",
       "      <td>11369.0</td>\n",
       "      <td>7183350505</td>\n",
       "      <td>American</td>\n",
       "      <td>2018-10-06</td>\n",
       "      <td>Violations were cited in the following area(s).</td>\n",
       "      <td>...</td>\n",
       "      <td>2019-09-25</td>\n",
       "      <td>Cycle Inspection / Initial Inspection</td>\n",
       "      <td>40.763971</td>\n",
       "      <td>-73.880973</td>\n",
       "      <td>403.0</td>\n",
       "      <td>22.0</td>\n",
       "      <td>32900.0</td>\n",
       "      <td>4024132.0</td>\n",
       "      <td>4.011000e+09</td>\n",
       "      <td>QN28</td>\n",
       "    </tr>\n",
       "  </tbody>\n",
       "</table>\n",
       "<p>5 rows × 26 columns</p>\n",
       "</div>"
      ],
      "text/plain": [
       "      CAMIS                             DBA       BORO BUILDING  \\\n",
       "0  30075445           MORRIS PARK BAKE SHOP      Bronx     1007   \n",
       "1  30112340                         WENDY'S   Brooklyn      469   \n",
       "2  30191841  DJ REYNOLDS PUB AND RESTAURANT  Manhattan      351   \n",
       "3  40356018                RIVIERA CATERERS   Brooklyn     2780   \n",
       "4  40356151         BRUNOS ON THE BOULEVARD     Queens     8825   \n",
       "\n",
       "              STREET  ZIPCODE       PHONE CUISINE DESCRIPTION INSPECTION DATE  \\\n",
       "0    MORRIS PARK AVE  10462.0  7188924968              Bakery      2019-06-11   \n",
       "1    FLATBUSH AVENUE  11225.0  7182875005          Hamburgers      2019-03-04   \n",
       "2   WEST   57 STREET  10019.0  2122452912               Irish      2019-06-06   \n",
       "3   STILLWELL AVENUE  11224.0  7183723031            American      2018-10-30   \n",
       "4  ASTORIA BOULEVARD  11369.0  7183350505            American      2018-10-06   \n",
       "\n",
       "                                            ACTION  ... RECORD DATE  \\\n",
       "0  Violations were cited in the following area(s).  ...  2019-09-25   \n",
       "1  Violations were cited in the following area(s).  ...  2019-09-25   \n",
       "2  Violations were cited in the following area(s).  ...  2019-09-25   \n",
       "3  Violations were cited in the following area(s).  ...  2019-09-25   \n",
       "4  Violations were cited in the following area(s).  ...  2019-09-25   \n",
       "\n",
       "                         INSPECTION TYPE   Latitude  Longitude  \\\n",
       "0       Cycle Inspection / Re-inspection  40.848231 -73.855972   \n",
       "1  Cycle Inspection / Initial Inspection  40.662652 -73.962081   \n",
       "2  Cycle Inspection / Initial Inspection  40.767326 -73.984310   \n",
       "3  Cycle Inspection / Initial Inspection  40.579920 -73.982090   \n",
       "4  Cycle Inspection / Initial Inspection  40.763971 -73.880973   \n",
       "\n",
       "  Community Board Council District Census Tract        BIN           BBL   NTA  \n",
       "0           211.0             13.0      25200.0  2045445.0  2.041270e+09  BX37  \n",
       "1           309.0             40.0      32700.0  3029737.0  3.011970e+09  BK60  \n",
       "2           104.0              3.0      13900.0  1026048.0  1.010480e+09  MN15  \n",
       "3           313.0             47.0      34800.0  3347399.0  3.069970e+09  BK21  \n",
       "4           403.0             22.0      32900.0  4024132.0  4.011000e+09  QN28  \n",
       "\n",
       "[5 rows x 26 columns]"
      ]
     },
     "execution_count": 41,
     "metadata": {},
     "output_type": "execute_result"
    }
   ],
   "source": [
    "restaurants = pd.read_csv('DOHMH - Restaurant Inspections - deduped.csv')\n",
    "restaurants.head()"
   ]
  },
  {
   "cell_type": "code",
   "execution_count": 42,
   "metadata": {},
   "outputs": [
    {
     "name": "stdout",
     "output_type": "stream",
     "text": [
      "<class 'pandas.core.frame.DataFrame'>\n",
      "RangeIndex: 26877 entries, 0 to 26876\n",
      "Data columns (total 26 columns):\n",
      "CAMIS                    26877 non-null int64\n",
      "DBA                      26298 non-null object\n",
      "BORO                     26877 non-null object\n",
      "BUILDING                 26834 non-null object\n",
      "STREET                   26861 non-null object\n",
      "ZIPCODE                  26457 non-null float64\n",
      "PHONE                    26874 non-null object\n",
      "CUISINE DESCRIPTION      26877 non-null object\n",
      "INSPECTION DATE          26877 non-null object\n",
      "ACTION                   25567 non-null object\n",
      "VIOLATION CODE           25183 non-null object\n",
      "VIOLATION DESCRIPTION    24913 non-null object\n",
      "CRITICAL FLAG            24913 non-null object\n",
      "SCORE                    24962 non-null float64\n",
      "GRADE                    22942 non-null object\n",
      "GRADE DATE               22501 non-null object\n",
      "RECORD DATE              26877 non-null object\n",
      "INSPECTION TYPE          25567 non-null object\n",
      "Latitude                 26809 non-null float64\n",
      "Longitude                26809 non-null float64\n",
      "Community Board          26404 non-null float64\n",
      "Council District         26404 non-null float64\n",
      "Census Tract             26404 non-null float64\n",
      "BIN                      26265 non-null float64\n",
      "BBL                      26809 non-null float64\n",
      "NTA                      26404 non-null object\n",
      "dtypes: float64(9), int64(1), object(16)\n",
      "memory usage: 5.3+ MB\n"
     ]
    }
   ],
   "source": [
    "restaurants.info()"
   ]
  },
  {
   "cell_type": "markdown",
   "metadata": {},
   "source": [
    "### Top Fast Food Chains (top 5)"
   ]
  },
  {
   "cell_type": "markdown",
   "metadata": {},
   "source": [
    "https://www.qsrmagazine.com/content/ranking-top-50-fast-food-chains-america\n",
    "\n",
    "1. McDonald's\n",
    "2. Starbucks\n",
    "3. Subway\n",
    "4. Taco Bell\n",
    "5. Chick-Fil-A\n",
    "6. Wendy's\n",
    "7. Burger King"
   ]
  },
  {
   "cell_type": "markdown",
   "metadata": {},
   "source": [
    "##### McDonald's"
   ]
  },
  {
   "cell_type": "code",
   "execution_count": 52,
   "metadata": {},
   "outputs": [
    {
     "data": {
      "text/plain": [
       "array([\"MCDONALD'S\", 'MCDONALD AVENUE DINER', \"MCDERMOTT'S PUB\",\n",
       "       'MCDONALDS', 'MCDONALDS RESTAURANT', \"MCDONALD'S RESTAURANT\",\n",
       "       'MCDONALD', \"MCDONALD'S #3880\", \"MCDONALD'S #11542\",\n",
       "       \"MCDONALD'S #13068\", \"MCDONALD'S #23105\", 'MCDONALDS # 6160',\n",
       "       'MCDONALDS # 18093', 'MCDONALDS 14520', \"MCDONALD'S CORPORATION\",\n",
       "       \"MCDONALD'S RESTAURANTS OF NEW YORK INC\"], dtype=object)"
      ]
     },
     "execution_count": 52,
     "metadata": {},
     "output_type": "execute_result"
    }
   ],
   "source": [
    "McDonalds = restaurants[restaurants['DBA'].str.contains('MCD', na = False)]\n",
    "McDonalds['DBA'].unique()"
   ]
  },
  {
   "cell_type": "code",
   "execution_count": 56,
   "metadata": {},
   "outputs": [
    {
     "name": "stdout",
     "output_type": "stream",
     "text": [
      "McDonald's count:  208\n"
     ]
    }
   ],
   "source": [
    "print(\"McDonald's count: \", McDonalds['DBA'].count())"
   ]
  },
  {
   "cell_type": "markdown",
   "metadata": {},
   "source": [
    "##### Starbucks"
   ]
  },
  {
   "cell_type": "code",
   "execution_count": 54,
   "metadata": {},
   "outputs": [
    {
     "data": {
      "text/plain": [
       "array(['STARBUCKS', 'STARBUCKS COFFEE', 'STARBUCKS #847',\n",
       "       'STARBUCKS COFFEE #7358', 'STARBUCKS (#07353)',\n",
       "       'STARBUCKS COFFEE # 7851', 'STARBUCKS #7860',\n",
       "       'BEDFORD COFFEE COMPANY/STARBUCKS', 'STARBUCKS COFFEE # 26528',\n",
       "       'STARBUCKS COFFEE COMPANY #22716',\n",
       "       'STARBUCKS COFFEE COMPANY #25533', 'STARBUCKS COFFEE #23591',\n",
       "       'STARBUCKS COFFEE #22596', 'STARBUCKS COFFEE #26188',\n",
       "       'STARBUCKS # 24485', 'STARBUCKS COFFEE COMPANY', 'JPMC/STARBUCKS',\n",
       "       'STARBUCKS COFFEE #29856', 'STARBUCKS COFFEE COMPANY #29897',\n",
       "       'STARBUCKS COFFEE COMPANY #48116', 'STARBUCKS COFFEE #852',\n",
       "       'STARBUCKS COFFEE #48340', 'STARBUCKS COFFEE #48170',\n",
       "       'STARBUCKS 379 DEKALB(DESIGN CENTER)', 'STARBUCKS COFFEE #28171',\n",
       "       'STARBUCKS (Store #50483)', 'STARBUCKS COFFEE #49952',\n",
       "       'STARBUCKS #50611', 'STARBUCKS COFFEE # 49196', 'STARBUCKS #48990',\n",
       "       'STARBUCKS COFFEE #49550', 'STARBUCKS (Fordham University)',\n",
       "       'STARBUCKS COFFEE #50622', \"VICTORIA'S SECRET / STARBUCKS\",\n",
       "       'STARBUCKS COFFEE #29719', 'STARBUCKS COFFEE #53473',\n",
       "       'DISNEY STARBUCKS', 'STARBUCKS COFFEE #49450', 'STARBUCKS #54446',\n",
       "       'STARBUCKS COFFEE #823', 'STARBUCKS COFFE #55085',\n",
       "       'THREE EIGHTY ATE, STARBUCKS', 'STARBUCKS COFFEE # 54771',\n",
       "       'STARBUCKS COFFEE COMPANY #29854', 'STARBUCKS COFFEE #52530',\n",
       "       'STARBUCKS COFFEE #56450', 'STARBUCKS TAXI',\n",
       "       'STARBUCKS COFFEE #58310', 'STARBUCKS CORPORATION',\n",
       "       'STARBUCKS COFFE #57601', 'STARBUCKS COFFEE #47753',\n",
       "       'STARBUCKS COFFEE #56451', 'STARBUCKS COFFEE #57774',\n",
       "       'STARBUCKS COFFEE #57154', 'STARBUCKS COFFEE # 57601'],\n",
       "      dtype=object)"
      ]
     },
     "execution_count": 54,
     "metadata": {},
     "output_type": "execute_result"
    }
   ],
   "source": [
    "starbucks = restaurants[restaurants['DBA'].str.contains('STARBUCKS', na = False)]\n",
    "# starbucks.head()\n",
    "starbucks['DBA'].unique()"
   ]
  },
  {
   "cell_type": "code",
   "execution_count": 57,
   "metadata": {},
   "outputs": [
    {
     "name": "stdout",
     "output_type": "stream",
     "text": [
      "Starbucks count:  353\n"
     ]
    }
   ],
   "source": [
    "print(\"Starbucks count: \", starbucks['DBA'].count())"
   ]
  },
  {
   "cell_type": "markdown",
   "metadata": {},
   "source": [
    "##### Subway"
   ]
  },
  {
   "cell_type": "code",
   "execution_count": 61,
   "metadata": {},
   "outputs": [
    {
     "data": {
      "text/plain": [
       "array([\"DUNKIN', SUBWAY\", 'SUBWAY', \"DUNKIN', BASKIN ROBBINS, SUBWAY\",\n",
       "       'SUBWAY, PIZZA & BURGER UR WAY', 'SUBWAY (+ STAR MINI MART)',\n",
       "       'SUBWAY, CARVEL', \"SUBWAY/NATHAN'S FAMOUS\", 'SUBWAY CAFE',\n",
       "       'SUBWAY INN', 'SUBWAY & CARVEL', 'SUBWAY SANDWICHES',\n",
       "       'SUBWAY #47857', 'SUBWAY RESTAURANT', 'SUBWAYS', 'SUBWAY (#29887)',\n",
       "       'SUBWAY STORE #30214', 'SUBWAY AND JUICE', 'SUBWAY # 30658'],\n",
       "      dtype=object)"
      ]
     },
     "execution_count": 61,
     "metadata": {},
     "output_type": "execute_result"
    }
   ],
   "source": [
    "subway = restaurants[restaurants['DBA'].str.contains('SUBWAY', na = False)]\n",
    "subway['DBA'].unique()"
   ]
  },
  {
   "cell_type": "code",
   "execution_count": 62,
   "metadata": {},
   "outputs": [
    {
     "name": "stdout",
     "output_type": "stream",
     "text": [
      "Subway count:  280\n"
     ]
    }
   ],
   "source": [
    "print(\"Subway count: \", subway['DBA'].count())"
   ]
  },
  {
   "cell_type": "markdown",
   "metadata": {},
   "source": [
    "##### Taco Bell"
   ]
  },
  {
   "cell_type": "code",
   "execution_count": 63,
   "metadata": {},
   "outputs": [
    {
     "data": {
      "text/plain": [
       "array(['TACO BELL', 'KFC, TACO BELL', 'TACO BELL PIZZA HUT EXPRESS',\n",
       "       \"DUNKIN', PIZZA HUT, TACO BELL\", 'TACO BELL PIZZA HUT',\n",
       "       'TACO BELL, KFC', 'TACO BELL, PIZZA HUT EXPRESS',\n",
       "       'TACO BELL/PIZZA HUT EXPRESS', 'TACO BELL AND PIZZA HUT',\n",
       "       'KFC/TACO BELL', 'KFC AND TACO BELL', 'TACO BELL CANTINA',\n",
       "       'TACO BELL CANTINA 034646', 'TACO BELL, PIATTINO, GREEN LEAFS',\n",
       "       'TACO BELL # 35457'], dtype=object)"
      ]
     },
     "execution_count": 63,
     "metadata": {},
     "output_type": "execute_result"
    }
   ],
   "source": [
    "tacobell = restaurants[restaurants['DBA'].str.contains('TACO BELL', na = False)]\n",
    "tacobell['DBA'].unique()"
   ]
  },
  {
   "cell_type": "code",
   "execution_count": 64,
   "metadata": {},
   "outputs": [
    {
     "name": "stdout",
     "output_type": "stream",
     "text": [
      "Taco Bell count:  47\n"
     ]
    }
   ],
   "source": [
    "print(\"Taco Bell count: \", tacobell['DBA'].count())"
   ]
  },
  {
   "cell_type": "markdown",
   "metadata": {},
   "source": [
    "##### Chick-Fil-A"
   ]
  },
  {
   "cell_type": "code",
   "execution_count": 65,
   "metadata": {},
   "outputs": [
    {
     "data": {
      "text/plain": [
       "array(['CHICK-FIL-A AT 46TH & 6TH IN-LINE',\n",
       "       'CHICK-FIL-A QUEENS CENTER MALL', 'CHICK-FIL-A AT GRAND CENTRAL',\n",
       "       'CHICK-FIL-A AT FULTON STREET',\n",
       "       'CHICK-FIL-A AT STATEN ISLAND MALL',\n",
       "       'CHICK-FIL-A AT FULTON STREET IN-LINE', 'CHICK-FIL-A',\n",
       "       'CHICK-FIL-A AT 711 LEXINGTON', 'CHICK-FIL-A AT 22ND & 6TH'],\n",
       "      dtype=object)"
      ]
     },
     "execution_count": 65,
     "metadata": {},
     "output_type": "execute_result"
    }
   ],
   "source": [
    "chickfila = restaurants[restaurants['DBA'].str.contains('CHICK-FIL-A', na = False)]\n",
    "chickfila['DBA'].unique()"
   ]
  },
  {
   "cell_type": "code",
   "execution_count": 66,
   "metadata": {},
   "outputs": [
    {
     "name": "stdout",
     "output_type": "stream",
     "text": [
      "Chick-Fil-A count:  10\n"
     ]
    }
   ],
   "source": [
    "print(\"Chick-Fil-A count: \", chickfila['DBA'].count())"
   ]
  },
  {
   "cell_type": "code",
   "execution_count": null,
   "metadata": {},
   "outputs": [],
   "source": []
  }
 ],
 "metadata": {
  "kernelspec": {
   "display_name": "Python 3",
   "language": "python",
   "name": "python3"
  },
  "language_info": {
   "codemirror_mode": {
    "name": "ipython",
    "version": 3
   },
   "file_extension": ".py",
   "mimetype": "text/x-python",
   "name": "python",
   "nbconvert_exporter": "python",
   "pygments_lexer": "ipython3",
   "version": "3.6.4"
  }
 },
 "nbformat": 4,
 "nbformat_minor": 2
}
