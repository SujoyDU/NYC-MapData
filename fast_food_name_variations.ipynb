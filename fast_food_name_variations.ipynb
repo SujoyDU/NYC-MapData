{
 "cells": [
  {
   "cell_type": "code",
   "execution_count": 102,
   "metadata": {},
   "outputs": [],
   "source": [
    "import pandas as pd\n",
    "import numpy as np"
   ]
  },
  {
   "cell_type": "code",
   "execution_count": 128,
   "metadata": {},
   "outputs": [
    {
     "data": {
      "text/html": [
       "<div>\n",
       "<style scoped>\n",
       "    .dataframe tbody tr th:only-of-type {\n",
       "        vertical-align: middle;\n",
       "    }\n",
       "\n",
       "    .dataframe tbody tr th {\n",
       "        vertical-align: top;\n",
       "    }\n",
       "\n",
       "    .dataframe thead th {\n",
       "        text-align: right;\n",
       "    }\n",
       "</style>\n",
       "<table border=\"1\" class=\"dataframe\">\n",
       "  <thead>\n",
       "    <tr style=\"text-align: right;\">\n",
       "      <th></th>\n",
       "      <th>CAMIS</th>\n",
       "      <th>DBA</th>\n",
       "      <th>BORO</th>\n",
       "      <th>BUILDING</th>\n",
       "      <th>STREET</th>\n",
       "      <th>ZIPCODE</th>\n",
       "      <th>PHONE</th>\n",
       "      <th>CUISINE DESCRIPTION</th>\n",
       "      <th>INSPECTION DATE</th>\n",
       "      <th>ACTION</th>\n",
       "      <th>...</th>\n",
       "      <th>RECORD DATE</th>\n",
       "      <th>INSPECTION TYPE</th>\n",
       "      <th>Latitude</th>\n",
       "      <th>Longitude</th>\n",
       "      <th>Community Board</th>\n",
       "      <th>Council District</th>\n",
       "      <th>Census Tract</th>\n",
       "      <th>BIN</th>\n",
       "      <th>BBL</th>\n",
       "      <th>NTA</th>\n",
       "    </tr>\n",
       "  </thead>\n",
       "  <tbody>\n",
       "    <tr>\n",
       "      <th>0</th>\n",
       "      <td>30075445</td>\n",
       "      <td>MORRIS PARK BAKE SHOP</td>\n",
       "      <td>Bronx</td>\n",
       "      <td>1007</td>\n",
       "      <td>MORRIS PARK AVENUE</td>\n",
       "      <td>10462.0</td>\n",
       "      <td>7188924968</td>\n",
       "      <td>Bakery</td>\n",
       "      <td>11/04/2019</td>\n",
       "      <td>Violations were cited in the following area(s).</td>\n",
       "      <td>...</td>\n",
       "      <td>05/16/2020</td>\n",
       "      <td>Cycle Inspection / Re-inspection</td>\n",
       "      <td>40.848231</td>\n",
       "      <td>-73.855972</td>\n",
       "      <td>211.0</td>\n",
       "      <td>13.0</td>\n",
       "      <td>25200.0</td>\n",
       "      <td>2045445.0</td>\n",
       "      <td>2.041270e+09</td>\n",
       "      <td>BX37</td>\n",
       "    </tr>\n",
       "    <tr>\n",
       "      <th>1</th>\n",
       "      <td>30112340</td>\n",
       "      <td>WENDY'S</td>\n",
       "      <td>Brooklyn</td>\n",
       "      <td>469</td>\n",
       "      <td>FLATBUSH AVENUE</td>\n",
       "      <td>11225.0</td>\n",
       "      <td>7182875005</td>\n",
       "      <td>Hamburgers</td>\n",
       "      <td>10/27/2016</td>\n",
       "      <td>Violations were cited in the following area(s).</td>\n",
       "      <td>...</td>\n",
       "      <td>05/16/2020</td>\n",
       "      <td>Cycle Inspection / Re-inspection</td>\n",
       "      <td>40.662652</td>\n",
       "      <td>-73.962081</td>\n",
       "      <td>309.0</td>\n",
       "      <td>40.0</td>\n",
       "      <td>32700.0</td>\n",
       "      <td>3029737.0</td>\n",
       "      <td>3.011970e+09</td>\n",
       "      <td>BK60</td>\n",
       "    </tr>\n",
       "    <tr>\n",
       "      <th>2</th>\n",
       "      <td>30191841</td>\n",
       "      <td>DJ REYNOLDS PUB AND RESTAURANT</td>\n",
       "      <td>Manhattan</td>\n",
       "      <td>351</td>\n",
       "      <td>WEST   57 STREET</td>\n",
       "      <td>10019.0</td>\n",
       "      <td>2122452912</td>\n",
       "      <td>Irish</td>\n",
       "      <td>12/14/2017</td>\n",
       "      <td>Violations were cited in the following area(s).</td>\n",
       "      <td>...</td>\n",
       "      <td>05/16/2020</td>\n",
       "      <td>Cycle Inspection / Re-inspection</td>\n",
       "      <td>40.767326</td>\n",
       "      <td>-73.984310</td>\n",
       "      <td>104.0</td>\n",
       "      <td>3.0</td>\n",
       "      <td>13900.0</td>\n",
       "      <td>1026048.0</td>\n",
       "      <td>1.010480e+09</td>\n",
       "      <td>MN15</td>\n",
       "    </tr>\n",
       "    <tr>\n",
       "      <th>3</th>\n",
       "      <td>40356018</td>\n",
       "      <td>RIVIERA CATERERS</td>\n",
       "      <td>Brooklyn</td>\n",
       "      <td>2780</td>\n",
       "      <td>STILLWELL AVENUE</td>\n",
       "      <td>11224.0</td>\n",
       "      <td>7183723031</td>\n",
       "      <td>American</td>\n",
       "      <td>11/08/2019</td>\n",
       "      <td>Violations were cited in the following area(s).</td>\n",
       "      <td>...</td>\n",
       "      <td>05/16/2020</td>\n",
       "      <td>Cycle Inspection / Initial Inspection</td>\n",
       "      <td>40.579920</td>\n",
       "      <td>-73.982090</td>\n",
       "      <td>313.0</td>\n",
       "      <td>47.0</td>\n",
       "      <td>34800.0</td>\n",
       "      <td>3347399.0</td>\n",
       "      <td>3.069970e+09</td>\n",
       "      <td>BK21</td>\n",
       "    </tr>\n",
       "    <tr>\n",
       "      <th>4</th>\n",
       "      <td>40356483</td>\n",
       "      <td>WILKEN'S FINE FOOD</td>\n",
       "      <td>Brooklyn</td>\n",
       "      <td>7114</td>\n",
       "      <td>AVENUE U</td>\n",
       "      <td>11234.0</td>\n",
       "      <td>7184443838</td>\n",
       "      <td>Delicatessen</td>\n",
       "      <td>06/03/2017</td>\n",
       "      <td>Violations were cited in the following area(s).</td>\n",
       "      <td>...</td>\n",
       "      <td>05/16/2020</td>\n",
       "      <td>Cycle Inspection / Initial Inspection</td>\n",
       "      <td>40.620112</td>\n",
       "      <td>-73.906989</td>\n",
       "      <td>318.0</td>\n",
       "      <td>46.0</td>\n",
       "      <td>70000.0</td>\n",
       "      <td>3237693.0</td>\n",
       "      <td>3.084310e+09</td>\n",
       "      <td>BK45</td>\n",
       "    </tr>\n",
       "  </tbody>\n",
       "</table>\n",
       "<p>5 rows × 26 columns</p>\n",
       "</div>"
      ],
      "text/plain": [
       "      CAMIS                             DBA       BORO BUILDING  \\\n",
       "0  30075445           MORRIS PARK BAKE SHOP      Bronx     1007   \n",
       "1  30112340                         WENDY'S   Brooklyn      469   \n",
       "2  30191841  DJ REYNOLDS PUB AND RESTAURANT  Manhattan      351   \n",
       "3  40356018                RIVIERA CATERERS   Brooklyn     2780   \n",
       "4  40356483              WILKEN'S FINE FOOD   Brooklyn     7114   \n",
       "\n",
       "               STREET  ZIPCODE       PHONE CUISINE DESCRIPTION  \\\n",
       "0  MORRIS PARK AVENUE  10462.0  7188924968              Bakery   \n",
       "1     FLATBUSH AVENUE  11225.0  7182875005          Hamburgers   \n",
       "2    WEST   57 STREET  10019.0  2122452912               Irish   \n",
       "3    STILLWELL AVENUE  11224.0  7183723031            American   \n",
       "4            AVENUE U  11234.0  7184443838        Delicatessen   \n",
       "\n",
       "  INSPECTION DATE                                           ACTION  ...  \\\n",
       "0      11/04/2019  Violations were cited in the following area(s).  ...   \n",
       "1      10/27/2016  Violations were cited in the following area(s).  ...   \n",
       "2      12/14/2017  Violations were cited in the following area(s).  ...   \n",
       "3      11/08/2019  Violations were cited in the following area(s).  ...   \n",
       "4      06/03/2017  Violations were cited in the following area(s).  ...   \n",
       "\n",
       "  RECORD DATE                        INSPECTION TYPE   Latitude  Longitude  \\\n",
       "0  05/16/2020       Cycle Inspection / Re-inspection  40.848231 -73.855972   \n",
       "1  05/16/2020       Cycle Inspection / Re-inspection  40.662652 -73.962081   \n",
       "2  05/16/2020       Cycle Inspection / Re-inspection  40.767326 -73.984310   \n",
       "3  05/16/2020  Cycle Inspection / Initial Inspection  40.579920 -73.982090   \n",
       "4  05/16/2020  Cycle Inspection / Initial Inspection  40.620112 -73.906989   \n",
       "\n",
       "  Community Board Council District Census Tract        BIN           BBL   NTA  \n",
       "0           211.0             13.0      25200.0  2045445.0  2.041270e+09  BX37  \n",
       "1           309.0             40.0      32700.0  3029737.0  3.011970e+09  BK60  \n",
       "2           104.0              3.0      13900.0  1026048.0  1.010480e+09  MN15  \n",
       "3           313.0             47.0      34800.0  3347399.0  3.069970e+09  BK21  \n",
       "4           318.0             46.0      70000.0  3237693.0  3.084310e+09  BK45  \n",
       "\n",
       "[5 rows x 26 columns]"
      ]
     },
     "execution_count": 128,
     "metadata": {},
     "output_type": "execute_result"
    }
   ],
   "source": [
    "restaurants = pd.read_csv('NYC_RestaurantInspection_deduped.csv')\n",
    "restaurants.head()"
   ]
  },
  {
   "cell_type": "code",
   "execution_count": 129,
   "metadata": {},
   "outputs": [
    {
     "name": "stdout",
     "output_type": "stream",
     "text": [
      "<class 'pandas.core.frame.DataFrame'>\n",
      "RangeIndex: 26533 entries, 0 to 26532\n",
      "Data columns (total 26 columns):\n",
      "CAMIS                    26533 non-null int64\n",
      "DBA                      26137 non-null object\n",
      "BORO                     26533 non-null object\n",
      "BUILDING                 26502 non-null object\n",
      "STREET                   26530 non-null object\n",
      "ZIPCODE                  26112 non-null float64\n",
      "PHONE                    26531 non-null object\n",
      "CUISINE DESCRIPTION      26533 non-null object\n",
      "INSPECTION DATE          26533 non-null object\n",
      "ACTION                   25211 non-null object\n",
      "VIOLATION CODE           24639 non-null object\n",
      "VIOLATION DESCRIPTION    24470 non-null object\n",
      "CRITICAL FLAG            24470 non-null object\n",
      "SCORE                    24171 non-null float64\n",
      "GRADE                    20163 non-null object\n",
      "GRADE DATE               19603 non-null object\n",
      "RECORD DATE              26533 non-null object\n",
      "INSPECTION TYPE          25211 non-null object\n",
      "Latitude                 26467 non-null float64\n",
      "Longitude                26467 non-null float64\n",
      "Community Board          26049 non-null float64\n",
      "Council District         26051 non-null float64\n",
      "Census Tract             26051 non-null float64\n",
      "BIN                      25937 non-null float64\n",
      "BBL                      26467 non-null float64\n",
      "NTA                      26049 non-null object\n",
      "dtypes: float64(9), int64(1), object(16)\n",
      "memory usage: 5.3+ MB\n"
     ]
    }
   ],
   "source": [
    "restaurants.info()"
   ]
  },
  {
   "cell_type": "markdown",
   "metadata": {},
   "source": [
    "### Top Fast Food Chains (top 5)"
   ]
  },
  {
   "cell_type": "markdown",
   "metadata": {},
   "source": [
    "https://www.qsrmagazine.com/content/ranking-top-50-fast-food-chains-america\n",
    "\n",
    "McDonald's\n",
    "Subway\n",
    "Taco Bell\n",
    "Chick-Fil-A\n",
    "Wendy's\n",
    "Burger King\n",
    "KFC\n",
    "Arby's\n",
    "Popeyes"
   ]
  },
  {
   "cell_type": "markdown",
   "metadata": {},
   "source": [
    "##### McDonald's"
   ]
  },
  {
   "cell_type": "code",
   "execution_count": 130,
   "metadata": {},
   "outputs": [
    {
     "data": {
      "text/plain": [
       "array([\"MCDONALD'S\", 'MCDONALD AVENUE DINER', 'MCDONALDS',\n",
       "       'MCDONALDS RESTAURANT', \"MCDONALD'S RESTAURANT\",\n",
       "       \"MCDONALD'S #3880\", \"MCDONALD'S #11542\", \"MCDONALD'S #13068\",\n",
       "       \"MCDONALD'S #23105\", 'MCDONALDS # 6160', 'MCDONALDS # 18093',\n",
       "       'MCDONALDS 14520', \"MCDONALD'S CORPORATION\"], dtype=object)"
      ]
     },
     "execution_count": 130,
     "metadata": {},
     "output_type": "execute_result"
    }
   ],
   "source": [
    "McDonalds = restaurants[restaurants['DBA'].str.contains('MCDONALD', na = False)]\n",
    "McDonalds['DBA'].unique()"
   ]
  },
  {
   "cell_type": "code",
   "execution_count": 131,
   "metadata": {},
   "outputs": [
    {
     "name": "stdout",
     "output_type": "stream",
     "text": [
      "McDonald's count:  203\n"
     ]
    }
   ],
   "source": [
    "print(\"McDonald's count: \", McDonalds['DBA'].count())"
   ]
  },
  {
   "cell_type": "markdown",
   "metadata": {},
   "source": [
    "##### Subway"
   ]
  },
  {
   "cell_type": "code",
   "execution_count": 132,
   "metadata": {},
   "outputs": [
    {
     "data": {
      "text/plain": [
       "array([\"DUNKIN', SUBWAY\", 'SUBWAY', \"DUNKIN', BASKIN ROBBINS, SUBWAY\",\n",
       "       'SUBWAY, PIZZA & BURGER UR WAY', 'SUBWAY (+ STAR MINI MART)',\n",
       "       'SUBWAY, CARVEL', \"SUBWAY/NATHAN'S FAMOUS\", 'SUBWAY CAFE',\n",
       "       'SUBWAY/KRISPY KRUNCHY CHICKEN', 'SUBWAY INN', 'SUBWAY & CARVEL',\n",
       "       'SUBWAY SANDWICHES', 'SUBWAY #47857', 'SUBWAYS', 'SUBWAY (#29887)',\n",
       "       'SUBWAY STORE #30214', 'SUBWAY # 30658', 'SUBWAY RESTAURANT'],\n",
       "      dtype=object)"
      ]
     },
     "execution_count": 132,
     "metadata": {},
     "output_type": "execute_result"
    }
   ],
   "source": [
    "subway = restaurants[restaurants['DBA'].str.contains('SUBWAY', na = False)]\n",
    "subway['DBA'].unique()"
   ]
  },
  {
   "cell_type": "code",
   "execution_count": 133,
   "metadata": {},
   "outputs": [
    {
     "name": "stdout",
     "output_type": "stream",
     "text": [
      "Subway count:  269\n"
     ]
    }
   ],
   "source": [
    "print(\"Subway count: \", subway['DBA'].count())"
   ]
  },
  {
   "cell_type": "markdown",
   "metadata": {},
   "source": [
    "##### Taco Bell"
   ]
  },
  {
   "cell_type": "code",
   "execution_count": 134,
   "metadata": {},
   "outputs": [
    {
     "data": {
      "text/plain": [
       "array(['TACO BELL', 'KFC, TACO BELL', 'TACO BELL PIZZA HUT EXPRESS',\n",
       "       'TACO BELL, KFC', 'TACO BELL, PIZZA HUT EXPRESS',\n",
       "       'TACO BELL/PIZZA HUT EXPRESS', 'TACO BELL AND PIZZA HUT',\n",
       "       'KFC/TACO BELL', 'KFC AND TACO BELL', 'TACO BELL PIZZA HUT',\n",
       "       'TACO BELL CANTINA', 'TACO BELL CANTINA 034646',\n",
       "       'TACO BELL, PIATTINO, GREEN LEAFS', 'TACO BELL # 35457',\n",
       "       'TACO BELL CANTINA #036012'], dtype=object)"
      ]
     },
     "execution_count": 134,
     "metadata": {},
     "output_type": "execute_result"
    }
   ],
   "source": [
    "tacobell = restaurants[restaurants['DBA'].str.contains('TACO BELL', na = False)]\n",
    "tacobell['DBA'].unique()"
   ]
  },
  {
   "cell_type": "code",
   "execution_count": 135,
   "metadata": {},
   "outputs": [
    {
     "name": "stdout",
     "output_type": "stream",
     "text": [
      "Taco Bell count:  51\n"
     ]
    }
   ],
   "source": [
    "print(\"Taco Bell count: \", tacobell['DBA'].count())"
   ]
  },
  {
   "cell_type": "markdown",
   "metadata": {},
   "source": [
    "##### Chick-Fil-A"
   ]
  },
  {
   "cell_type": "code",
   "execution_count": 136,
   "metadata": {},
   "outputs": [
    {
     "data": {
      "text/plain": [
       "array(['CHICK-FIL-A QUEENS CENTER MALL', 'CHICK-FIL-A AT GRAND CENTRAL',\n",
       "       'CHICK-FIL-A AT FULTON STREET',\n",
       "       'CHICK-FIL-A AT STATEN ISLAND MALL', 'CHICK-FIL-A',\n",
       "       'CHICK-FIL-A AT FULTON STREET IN-LINE',\n",
       "       'CHICK-FIL-A AT 711 LEXINGTON', 'CHICK-FIL-A AT 22ND & 6TH'],\n",
       "      dtype=object)"
      ]
     },
     "execution_count": 136,
     "metadata": {},
     "output_type": "execute_result"
    }
   ],
   "source": [
    "chickfila = restaurants[restaurants['DBA'].str.contains('CHICK-FIL-A', na = False)]\n",
    "chickfila['DBA'].unique()"
   ]
  },
  {
   "cell_type": "code",
   "execution_count": 137,
   "metadata": {},
   "outputs": [
    {
     "name": "stdout",
     "output_type": "stream",
     "text": [
      "Chick-Fil-A count:  12\n"
     ]
    }
   ],
   "source": [
    "print(\"Chick-Fil-A count: \", chickfila['DBA'].count())"
   ]
  },
  {
   "cell_type": "markdown",
   "metadata": {},
   "source": [
    "##### Wendy's"
   ]
  },
  {
   "cell_type": "code",
   "execution_count": 138,
   "metadata": {},
   "outputs": [
    {
     "data": {
      "text/plain": [
       "array([\"WENDY'S\", \"WENDY'S RESTAURANT #108\", \"WENDY'S #2549\", 'WENDYS'],\n",
       "      dtype=object)"
      ]
     },
     "execution_count": 138,
     "metadata": {},
     "output_type": "execute_result"
    }
   ],
   "source": [
    "wendys = restaurants[restaurants['DBA'].str.contains('WENDY', na = False)]\n",
    "wendys['DBA'].unique()"
   ]
  },
  {
   "cell_type": "code",
   "execution_count": 139,
   "metadata": {},
   "outputs": [
    {
     "name": "stdout",
     "output_type": "stream",
     "text": [
      "Wendy's count:  46\n"
     ]
    }
   ],
   "source": [
    "print(\"Wendy's count: \", wendys['DBA'].count())"
   ]
  },
  {
   "cell_type": "markdown",
   "metadata": {},
   "source": [
    "##### Burger King"
   ]
  },
  {
   "cell_type": "code",
   "execution_count": 140,
   "metadata": {},
   "outputs": [
    {
     "data": {
      "text/plain": [
       "array(['BURGER KING', 'BURGER KING, POPEYES', 'BURGER KING/CINNABON',\n",
       "       'POPEYES/BURGER KING'], dtype=object)"
      ]
     },
     "execution_count": 140,
     "metadata": {},
     "output_type": "execute_result"
    }
   ],
   "source": [
    "bk = restaurants[restaurants['DBA'].str.contains('BURGER KING', na = False)]\n",
    "bk['DBA'].unique()"
   ]
  },
  {
   "cell_type": "code",
   "execution_count": 141,
   "metadata": {},
   "outputs": [
    {
     "name": "stdout",
     "output_type": "stream",
     "text": [
      "Wendy's count:  46\n"
     ]
    }
   ],
   "source": [
    "print(\"Wendy's count: \", wendys['DBA'].count())"
   ]
  },
  {
   "cell_type": "markdown",
   "metadata": {},
   "source": [
    "##### KFC"
   ]
  },
  {
   "cell_type": "code",
   "execution_count": 142,
   "metadata": {},
   "outputs": [
    {
     "data": {
      "text/plain": [
       "array(['KFC, TACO BELL', 'TACO BELL, KFC', 'KFC', 'KFC/TACO BELL',\n",
       "       'KFC AND TACO BELL', 'KENTUCKY FRIED CHICKEN (KFC)'], dtype=object)"
      ]
     },
     "execution_count": 142,
     "metadata": {},
     "output_type": "execute_result"
    }
   ],
   "source": [
    "kfc = restaurants[restaurants['DBA'].str.contains('KFC', na = False)]\n",
    "kfc['DBA'].unique()"
   ]
  },
  {
   "cell_type": "code",
   "execution_count": 143,
   "metadata": {},
   "outputs": [
    {
     "name": "stdout",
     "output_type": "stream",
     "text": [
      "KFC count:  39\n"
     ]
    }
   ],
   "source": [
    "print(\"KFC count: \", kfc['DBA'].count())"
   ]
  },
  {
   "cell_type": "markdown",
   "metadata": {},
   "source": [
    "##### Arby's"
   ]
  },
  {
   "cell_type": "code",
   "execution_count": 144,
   "metadata": {},
   "outputs": [
    {
     "data": {
      "text/plain": [
       "array([\"ARBY'S\"], dtype=object)"
      ]
     },
     "execution_count": 144,
     "metadata": {},
     "output_type": "execute_result"
    }
   ],
   "source": [
    "arbys = restaurants[restaurants['DBA'].str.contains('ARBY', na = False)]\n",
    "arbys['DBA'].unique()"
   ]
  },
  {
   "cell_type": "code",
   "execution_count": 145,
   "metadata": {},
   "outputs": [
    {
     "name": "stdout",
     "output_type": "stream",
     "text": [
      "Arby's count:  4\n"
     ]
    }
   ],
   "source": [
    "print(\"Arby's count: \", arbys['DBA'].count())"
   ]
  },
  {
   "cell_type": "markdown",
   "metadata": {},
   "source": [
    "##### Popeyes"
   ]
  },
  {
   "cell_type": "code",
   "execution_count": 146,
   "metadata": {},
   "outputs": [
    {
     "data": {
      "text/plain": [
       "array(['POPEYES/DUNKIN DONUTS', 'POPEYES', 'BURGER KING, POPEYES',\n",
       "       'POPEYES LOUISANA KITCHEN', \"DUNKIN', BASKIN ROBBINS, POPEYES\",\n",
       "       'POPEYES LOUISIANA KITCHEN', \"NATHAN'S, POPEYES\",\n",
       "       'DUNKIN, POPEYES', 'POPEYES/BURGER KING',\n",
       "       'POPEYES LOUSIANA KICTHEN'], dtype=object)"
      ]
     },
     "execution_count": 146,
     "metadata": {},
     "output_type": "execute_result"
    }
   ],
   "source": [
    "popeyes = restaurants[restaurants['DBA'].str.contains('POPEYES', na = False)]\n",
    "popeyes['DBA'].unique()"
   ]
  },
  {
   "cell_type": "code",
   "execution_count": 147,
   "metadata": {},
   "outputs": [
    {
     "name": "stdout",
     "output_type": "stream",
     "text": [
      "Popeyes count:  108\n"
     ]
    }
   ],
   "source": [
    "print(\"Popeyes count: \", popeyes['DBA'].count())"
   ]
  },
  {
   "cell_type": "code",
   "execution_count": null,
   "metadata": {},
   "outputs": [],
   "source": []
  }
 ],
 "metadata": {
  "kernelspec": {
   "display_name": "Python 3",
   "language": "python",
   "name": "python3"
  },
  "language_info": {
   "codemirror_mode": {
    "name": "ipython",
    "version": 3
   },
   "file_extension": ".py",
   "mimetype": "text/x-python",
   "name": "python",
   "nbconvert_exporter": "python",
   "pygments_lexer": "ipython3",
   "version": "3.6.4"
  }
 },
 "nbformat": 4,
 "nbformat_minor": 2
}
